{
 "cells": [
  {
   "cell_type": "code",
   "execution_count": 1,
   "id": "4c7a4d6a",
   "metadata": {},
   "outputs": [],
   "source": [
    "import sys"
   ]
  },
  {
   "cell_type": "code",
   "execution_count": 2,
   "id": "5208c0f2",
   "metadata": {},
   "outputs": [],
   "source": [
    "sys.dont_write_bytecode = True"
   ]
  },
  {
   "cell_type": "code",
   "execution_count": 3,
   "id": "dc1bbc30",
   "metadata": {},
   "outputs": [],
   "source": [
    "import numpy as np\n",
    "import pandas as pd\n",
    "\n",
    "import matplotlib.pyplot as plt\n",
    "import seaborn as sns\n",
    "\n",
    "from sklearn.utils import shuffle\n",
    "\n",
    "from PoissonMixtureModel import PoissonMixtureModel"
   ]
  },
  {
   "cell_type": "code",
   "execution_count": 4,
   "id": "6c7c3400",
   "metadata": {},
   "outputs": [],
   "source": [
    "np.random.seed(0)"
   ]
  },
  {
   "cell_type": "code",
   "execution_count": 5,
   "id": "a72b5956",
   "metadata": {},
   "outputs": [
    {
     "name": "stdout",
     "output_type": "stream",
     "text": [
      "Número de Observações: 5000\n"
     ]
    }
   ],
   "source": [
    "N = 5000\n",
    "\n",
    "print(f'Número de Observações: {N}')"
   ]
  },
  {
   "cell_type": "code",
   "execution_count": 6,
   "id": "013e37cb",
   "metadata": {},
   "outputs": [
    {
     "name": "stdout",
     "output_type": "stream",
     "text": [
      "Número de Categorias Latentes: 3\n"
     ]
    }
   ],
   "source": [
    "M = 3\n",
    "\n",
    "print(f'Número de Categorias Latentes: {M}')"
   ]
  },
  {
   "cell_type": "code",
   "execution_count": 7,
   "id": "61989100",
   "metadata": {},
   "outputs": [
    {
     "name": "stdout",
     "output_type": "stream",
     "text": [
      "Distribuição das Categorias Latentes:\n",
      "\n",
      "[0.25 0.25 0.5 ]\n"
     ]
    }
   ],
   "source": [
    "PI = np.array([1/4, 1/4, 1/2])\n",
    "\n",
    "print(f'Distribuição das Categorias Latentes:\\n')\n",
    "\n",
    "print(PI)"
   ]
  },
  {
   "cell_type": "code",
   "execution_count": 8,
   "id": "d596f9cc",
   "metadata": {},
   "outputs": [
    {
     "name": "stdout",
     "output_type": "stream",
     "text": [
      "Número de Observações por Categoria Latente:\n",
      "\n",
      "[1217 1231 2552]\n"
     ]
    }
   ],
   "source": [
    "ALPHA = np.random.multinomial(n = 1, pvals = PI, size = N).sum(axis = 0)\n",
    "\n",
    "print(f'Número de Observações por Categoria Latente:\\n')\n",
    "\n",
    "print(ALPHA)"
   ]
  },
  {
   "cell_type": "code",
   "execution_count": 9,
   "id": "1a3b8ebe",
   "metadata": {},
   "outputs": [
    {
     "name": "stdout",
     "output_type": "stream",
     "text": [
      "Médias por Categoria Latente:\n",
      "\n",
      "[1, 10, 20]\n"
     ]
    }
   ],
   "source": [
    "MU = [1, 10, 20]\n",
    "\n",
    "print(f'Médias por Categoria Latente:\\n')\n",
    "\n",
    "print(MU)"
   ]
  },
  {
   "cell_type": "code",
   "execution_count": 10,
   "id": "cd84d2d7",
   "metadata": {},
   "outputs": [],
   "source": [
    "X, Z = [], []\n",
    "\n",
    "for m in range(M):\n",
    "\n",
    "    X.append(\n",
    "\n",
    "        np.random.poisson(\n",
    "\n",
    "            lam = MU[m],\n",
    "\n",
    "            size = ALPHA[m]\n",
    "\n",
    "        )\n",
    "\n",
    "    )\n",
    "\n",
    "    Z.append(\n",
    "\n",
    "        np.repeat(\n",
    "\n",
    "            m,\n",
    "\n",
    "            repeats = ALPHA[m]\n",
    "\n",
    "        )\n",
    "\n",
    "    )\n",
    "\n",
    "X, Z = np.hstack(X), np.hstack(Z)\n",
    "\n",
    "X, Z = shuffle(X, Z)"
   ]
  },
  {
   "cell_type": "code",
   "execution_count": 11,
   "id": "d7739f76",
   "metadata": {},
   "outputs": [
    {
     "name": "stdout",
     "output_type": "stream",
     "text": [
      "Observações:\n",
      "\n",
      "[ 2 19  0 ... 10 19 17]\n"
     ]
    }
   ],
   "source": [
    "print('Observações:\\n')\n",
    "\n",
    "print(X)"
   ]
  },
  {
   "cell_type": "code",
   "execution_count": 12,
   "id": "597b1dc6",
   "metadata": {},
   "outputs": [
    {
     "name": "stdout",
     "output_type": "stream",
     "text": [
      "Categorias Latentes:\n",
      "\n",
      "[0 2 0 ... 1 2 2]\n"
     ]
    }
   ],
   "source": [
    "print('Categorias Latentes:\\n')\n",
    "\n",
    "print(Z)"
   ]
  },
  {
   "cell_type": "code",
   "execution_count": 13,
   "id": "d2e7afce",
   "metadata": {},
   "outputs": [
    {
     "data": {
      "text/html": [
       "<div>\n",
       "<style scoped>\n",
       "    .dataframe tbody tr th:only-of-type {\n",
       "        vertical-align: middle;\n",
       "    }\n",
       "\n",
       "    .dataframe tbody tr th {\n",
       "        vertical-align: top;\n",
       "    }\n",
       "\n",
       "    .dataframe thead th {\n",
       "        text-align: right;\n",
       "    }\n",
       "</style>\n",
       "<table border=\"1\" class=\"dataframe\">\n",
       "  <thead>\n",
       "    <tr style=\"text-align: right;\">\n",
       "      <th></th>\n",
       "      <th>Observação</th>\n",
       "      <th>Categoria Latente</th>\n",
       "    </tr>\n",
       "  </thead>\n",
       "  <tbody>\n",
       "    <tr>\n",
       "      <th>0</th>\n",
       "      <td>2</td>\n",
       "      <td>0</td>\n",
       "    </tr>\n",
       "    <tr>\n",
       "      <th>1</th>\n",
       "      <td>19</td>\n",
       "      <td>2</td>\n",
       "    </tr>\n",
       "    <tr>\n",
       "      <th>2</th>\n",
       "      <td>0</td>\n",
       "      <td>0</td>\n",
       "    </tr>\n",
       "    <tr>\n",
       "      <th>3</th>\n",
       "      <td>17</td>\n",
       "      <td>2</td>\n",
       "    </tr>\n",
       "    <tr>\n",
       "      <th>4</th>\n",
       "      <td>3</td>\n",
       "      <td>0</td>\n",
       "    </tr>\n",
       "  </tbody>\n",
       "</table>\n",
       "</div>"
      ],
      "text/plain": [
       "   Observação  Categoria Latente\n",
       "0           2                  0\n",
       "1          19                  2\n",
       "2           0                  0\n",
       "3          17                  2\n",
       "4           3                  0"
      ]
     },
     "execution_count": 13,
     "metadata": {},
     "output_type": "execute_result"
    }
   ],
   "source": [
    "DATA = pd.DataFrame(data = {'Observação': X, 'Categoria Latente': Z})\n",
    "\n",
    "DATA.head()"
   ]
  },
  {
   "cell_type": "code",
   "execution_count": 14,
   "id": "bd9d9ee3",
   "metadata": {},
   "outputs": [
    {
     "data": {
      "image/png": "[encoded data removed]",
      "text/plain": [
       "<Figure size 1500x500 with 1 Axes>"
      ]
     },
     "metadata": {},
     "output_type": "display_data"
    }
   ],
   "source": [
    "plt.figure(figsize = (15, 5))\n",
    "\n",
    "GRAPHIC = sns.histplot(\n",
    "\n",
    "    data = DATA, x = 'Observação', \n",
    "    \n",
    "    hue = 'Categoria Latente', \n",
    "    \n",
    "    stat = 'density', bins = 15, \n",
    "    \n",
    "    palette = 'bright', alpha = 1\n",
    "\n",
    ")\n",
    "\n",
    "GRAPHIC.spines['right'].set_visible(False)\n",
    "\n",
    "GRAPHIC.spines['top'].set_visible(False)\n",
    "\n",
    "plt.ylabel('Densidade')\n",
    "\n",
    "sns.move_legend(\n",
    "\n",
    "    GRAPHIC, 'lower center',\n",
    "\n",
    "    bbox_to_anchor = (0.5, 1), ncol = 5\n",
    "    \n",
    ")\n",
    "\n",
    "plt.show()"
   ]
  },
  {
   "cell_type": "code",
   "execution_count": 15,
   "id": "c6af6275",
   "metadata": {},
   "outputs": [],
   "source": [
    "PMM = PoissonMixtureModel(X = X, M = M)\n",
    "\n",
    "PMM.update_model()"
   ]
  },
  {
   "cell_type": "code",
   "execution_count": 16,
   "id": "166f0a83",
   "metadata": {},
   "outputs": [
    {
     "name": "stdout",
     "output_type": "stream",
     "text": [
      "[ 9.91650957  0.97961787 20.09551835]\n"
     ]
    }
   ],
   "source": [
    "print(PMM.eta)"
   ]
  },
  {
   "cell_type": "code",
   "execution_count": 17,
   "id": "b717dc23",
   "metadata": {},
   "outputs": [
    {
     "name": "stdout",
     "output_type": "stream",
     "text": [
      "0.020382132567719924\n"
     ]
    }
   ],
   "source": [
    "print(np.abs((MU - np.sort(PMM.eta))/MU).max())"
   ]
  }
 ],
 "metadata": {
  "kernelspec": {
   "display_name": "VirtualEnvironment",
   "language": "python",
   "name": "python3"
  },
  "language_info": {
   "codemirror_mode": {
    "name": "ipython",
    "version": 3
   },
   "file_extension": ".py",
   "mimetype": "text/x-python",
   "name": "python",
   "nbconvert_exporter": "python",
   "pygments_lexer": "ipython3",
   "version": "3.13.6"
  }
 },
 "nbformat": 4,
 "nbformat_minor": 5
}
